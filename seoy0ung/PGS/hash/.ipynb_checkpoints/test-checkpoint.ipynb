{
 "cells": [
  {
   "cell_type": "code",
   "execution_count": 1,
   "id": "cadfb8ac",
   "metadata": {
    "ExecuteTime": {
     "end_time": "2023-10-04T15:47:32.674110Z",
     "start_time": "2023-10-04T15:47:32.654529Z"
    }
   },
   "outputs": [
    {
     "data": {
      "text/plain": [
       "['119', '1195524421', '97674223']"
      ]
     },
     "execution_count": 1,
     "metadata": {},
     "output_type": "execute_result"
    }
   ],
   "source": [
    "test = [\"119\", \"97674223\", \"1195524421\"]\n",
    "test.sort()\n",
    "test"
   ]
  },
  {
   "cell_type": "code",
   "execution_count": 1,
   "id": "da116238",
   "metadata": {
    "ExecuteTime": {
     "end_time": "2023-10-09T06:50:46.828802Z",
     "start_time": "2023-10-09T06:50:46.819187Z"
    }
   },
   "outputs": [],
   "source": [
    "genres = ['classic','pop','classic','classic','pop']\n",
    "plays = [500, 600, 150, 800, 2500]"
   ]
  },
  {
   "cell_type": "code",
   "execution_count": 21,
   "id": "e10d69a5",
   "metadata": {
    "ExecuteTime": {
     "end_time": "2023-10-09T07:47:08.489059Z",
     "start_time": "2023-10-09T07:47:08.483006Z"
    }
   },
   "outputs": [],
   "source": [
    "def solution(genres, plays):\n",
    "    album = {}\n",
    "    total = {}\n",
    "    answer = []\n",
    "    for i in range(len(genres)):\n",
    "        if genres[i] not in album:\n",
    "            album[genres[i]] = {i:plays[i]}\n",
    "            total[genres[i]] = plays[i]\n",
    "        else:\n",
    "            album[genres[i]][i] = plays[i]\n",
    "            total[genres[i]] += plays[i]\n",
    "            \n",
    "    total = sorted(total.items(), key = lambda x:x[1], reverse=True)\n",
    "    \n",
    "    for info in total:\n",
    "        genre = info[0]\n",
    "        count = sorted(album[genre].items(), key=lambda x:x[1])\n",
    "        i = 1\n",
    "        while count:\n",
    "            if i == 2:\n",
    "                break\n",
    "            answer.append(count.pop()[0])\n",
    "            i += 1\n",
    "    return answer"
   ]
  },
  {
   "cell_type": "code",
   "execution_count": 30,
   "id": "fcb2b765",
   "metadata": {
    "ExecuteTime": {
     "end_time": "2023-10-09T08:01:51.318774Z",
     "start_time": "2023-10-09T08:01:51.304748Z"
    }
   },
   "outputs": [],
   "source": [
    "result = solution(genres, plays)"
   ]
  },
  {
   "cell_type": "raw",
   "id": "f2370929",
   "metadata": {},
   "source": []
  }
 ],
 "metadata": {
  "kernelspec": {
   "display_name": "Python 3 (ipykernel)",
   "language": "python",
   "name": "python3"
  },
  "language_info": {
   "codemirror_mode": {
    "name": "ipython",
    "version": 3
   },
   "file_extension": ".py",
   "mimetype": "text/x-python",
   "name": "python",
   "nbconvert_exporter": "python",
   "pygments_lexer": "ipython3",
   "version": "3.11.4"
  },
  "toc": {
   "base_numbering": 1,
   "nav_menu": {},
   "number_sections": true,
   "sideBar": true,
   "skip_h1_title": false,
   "title_cell": "Table of Contents",
   "title_sidebar": "Contents",
   "toc_cell": false,
   "toc_position": {},
   "toc_section_display": true,
   "toc_window_display": false
  }
 },
 "nbformat": 4,
 "nbformat_minor": 5
}
