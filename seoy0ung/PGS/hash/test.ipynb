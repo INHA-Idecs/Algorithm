{
 "cells": [
  {
   "cell_type": "code",
   "execution_count": 1,
   "id": "cadfb8ac",
   "metadata": {
    "ExecuteTime": {
     "end_time": "2023-10-04T15:47:32.674110Z",
     "start_time": "2023-10-04T15:47:32.654529Z"
    }
   },
   "outputs": [
    {
     "data": {
      "text/plain": [
       "['119', '1195524421', '97674223']"
      ]
     },
     "execution_count": 1,
     "metadata": {},
     "output_type": "execute_result"
    }
   ],
   "source": [
    "test = [\"119\", \"97674223\", \"1195524421\"]\n",
    "test.sort()\n",
    "test"
   ]
  },
  {
   "cell_type": "code",
   "execution_count": 1,
   "id": "da116238",
   "metadata": {
    "ExecuteTime": {
     "end_time": "2023-10-09T06:50:46.828802Z",
     "start_time": "2023-10-09T06:50:46.819187Z"
    }
   },
   "outputs": [],
   "source": [
    "genres = ['classic','pop','classic','classic','pop']\n",
    "plays = [500, 600, 150, 800, 2500]"
   ]
  },
  {
   "cell_type": "code",
   "execution_count": 32,
   "id": "7d659178",
   "metadata": {
    "ExecuteTime": {
     "end_time": "2023-10-09T08:02:19.003297Z",
     "start_time": "2023-10-09T08:02:18.989860Z"
    }
   },
   "outputs": [],
   "source": [
    "def solution(genres, plays):\n",
    "    album = {}\n",
    "    total = {}\n",
    "    answer = []\n",
    "    for i in range(len(genres)):\n",
    "        if genres[i] not in album:\n",
    "            album[genres[i]] = {i:plays[i]}\n",
    "            total[genres[i]] = plays[i]\n",
    "        else:\n",
    "            album[genres[i]][i] = plays[i]\n",
    "            total[genres[i]] += plays[i]\n",
    "            \n",
    "    total = sorted(total.items(), key = lambda x:x[1], reverse=True)\n",
    "    \n",
    "    for info in total:\n",
    "        genre = info[0]\n",
    "        count = sorted(album[genre].items(), key=lambda x:x[1])\n",
    "        i = 0\n",
    "        while count:\n",
    "            if i == 2:\n",
    "                break\n",
    "            answer.append(count.pop()[0])\n",
    "            i += 1\n",
    "    return answer"
   ]
  },
  {
   "cell_type": "code",
   "execution_count": 33,
   "id": "6f9237af",
   "metadata": {
    "ExecuteTime": {
     "end_time": "2023-10-09T08:02:31.890350Z",
     "start_time": "2023-10-09T08:02:19.766968Z"
    }
   },
   "outputs": [
    {
     "ename": "KeyboardInterrupt",
     "evalue": "",
     "output_type": "error",
     "traceback": [
      "\u001b[1;31m---------------------------------------------------------------------------\u001b[0m",
      "\u001b[1;31mKeyboardInterrupt\u001b[0m                         Traceback (most recent call last)",
      "Cell \u001b[1;32mIn[33], line 1\u001b[0m\n\u001b[1;32m----> 1\u001b[0m result \u001b[38;5;241m=\u001b[39m solution(genres, plays)\n",
      "Cell \u001b[1;32mIn[32], line 21\u001b[0m, in \u001b[0;36msolution\u001b[1;34m(genres, plays)\u001b[0m\n\u001b[0;32m     19\u001b[0m \u001b[38;5;28;01mwhile\u001b[39;00m count:\n\u001b[0;32m     20\u001b[0m     \u001b[38;5;28;01mif\u001b[39;00m i \u001b[38;5;241m==\u001b[39m \u001b[38;5;241m2\u001b[39m:\n\u001b[1;32m---> 21\u001b[0m         \u001b[38;5;28;01mcontinue\u001b[39;00m\n\u001b[0;32m     22\u001b[0m     answer\u001b[38;5;241m.\u001b[39mappend(count\u001b[38;5;241m.\u001b[39mpop()[\u001b[38;5;241m0\u001b[39m])\n\u001b[0;32m     23\u001b[0m     i \u001b[38;5;241m+\u001b[39m\u001b[38;5;241m=\u001b[39m \u001b[38;5;241m1\u001b[39m\n",
      "\u001b[1;31mKeyboardInterrupt\u001b[0m: "
     ]
    }
   ],
   "source": [
    "result = solution(genres, plays)"
   ]
  },
  {
   "cell_type": "code",
   "execution_count": null,
   "id": "7e2d990c",
   "metadata": {
    "ExecuteTime": {
     "end_time": "2023-10-09T08:02:31.890350Z",
     "start_time": "2023-10-09T08:02:31.890350Z"
    }
   },
   "outputs": [],
   "source": [
    "result"
   ]
  },
  {
   "cell_type": "code",
   "execution_count": 84,
   "id": "8406d932",
   "metadata": {
    "ExecuteTime": {
     "end_time": "2023-10-09T09:06:54.942703Z",
     "start_time": "2023-10-09T09:06:54.928398Z"
    }
   },
   "outputs": [],
   "source": [
    "import numpy as np\n",
    "\n",
    "progresses = [93, 30, 55]\n",
    "speeds = [1, 30, 5]"
   ]
  },
  {
   "cell_type": "code",
   "execution_count": 36,
   "id": "c2c5515b",
   "metadata": {
    "ExecuteTime": {
     "end_time": "2023-10-09T08:30:39.321618Z",
     "start_time": "2023-10-09T08:30:39.311882Z"
    }
   },
   "outputs": [],
   "source": [
    "progresses = np.array(progresses)\n",
    "speeds = np.array(speeds)"
   ]
  },
  {
   "cell_type": "code",
   "execution_count": 37,
   "id": "7398b5c6",
   "metadata": {
    "ExecuteTime": {
     "end_time": "2023-10-09T08:30:47.735373Z",
     "start_time": "2023-10-09T08:30:47.714420Z"
    }
   },
   "outputs": [
    {
     "data": {
      "text/plain": [
       "array([94, 60, 60])"
      ]
     },
     "execution_count": 37,
     "metadata": {},
     "output_type": "execute_result"
    }
   ],
   "source": [
    "progresses + speeds"
   ]
  },
  {
   "cell_type": "code",
   "execution_count": 41,
   "id": "3cee7225",
   "metadata": {
    "ExecuteTime": {
     "end_time": "2023-10-09T08:34:49.950165Z",
     "start_time": "2023-10-09T08:34:49.941926Z"
    }
   },
   "outputs": [
    {
     "data": {
      "text/plain": [
       "93"
      ]
     },
     "execution_count": 41,
     "metadata": {},
     "output_type": "execute_result"
    }
   ],
   "source": [
    "progresses.pop(0)"
   ]
  },
  {
   "cell_type": "code",
   "execution_count": 42,
   "id": "3b74014c",
   "metadata": {
    "ExecuteTime": {
     "end_time": "2023-10-09T08:34:56.501408Z",
     "start_time": "2023-10-09T08:34:56.488378Z"
    }
   },
   "outputs": [
    {
     "data": {
      "text/plain": [
       "[30]"
      ]
     },
     "execution_count": 42,
     "metadata": {},
     "output_type": "execute_result"
    }
   ],
   "source": [
    "progresses"
   ]
  },
  {
   "cell_type": "code",
   "execution_count": 85,
   "id": "fc39979c",
   "metadata": {
    "ExecuteTime": {
     "end_time": "2023-10-09T09:06:56.618442Z",
     "start_time": "2023-10-09T09:06:56.603278Z"
    }
   },
   "outputs": [],
   "source": [
    "def solution(progresses, speeds):\n",
    "    answer = []\n",
    "    cnt = 0\n",
    "    while progresses:\n",
    "        for i in range(len(progresses)):\n",
    "            progresses[i] += speeds[i]\n",
    "        print(progresses)\n",
    "        while progresses:\n",
    "            check = progresses.pop(0)\n",
    "            speed = speeds.pop(0)\n",
    "            if check >= 100:\n",
    "                cnt += 1\n",
    "                print(cnt)\n",
    "                continue\n",
    "            else:\n",
    "                if cnt != 0:\n",
    "                    answer.append(cnt)\n",
    "                    print(answer)\n",
    "                progresses.insert(0,check)\n",
    "                speeds.insert(0, speed)\n",
    "                print(progresses, speeds)\n",
    "                cnt = 0\n",
    "                break\n",
    "        if cnt != 0:\n",
    "            answer.append(cnt)\n",
    "    return answer"
   ]
  },
  {
   "cell_type": "code",
   "execution_count": 86,
   "id": "b4d53b6c",
   "metadata": {
    "ExecuteTime": {
     "end_time": "2023-10-09T09:06:57.052973Z",
     "start_time": "2023-10-09T09:06:57.033944Z"
    },
    "scrolled": true
   },
   "outputs": [
    {
     "name": "stdout",
     "output_type": "stream",
     "text": [
      "[94, 60, 60]\n",
      "[94, 60, 60] [1, 30, 5]\n",
      "[95, 90, 65]\n",
      "[95, 90, 65] [1, 30, 5]\n",
      "[96, 120, 70]\n",
      "[96, 120, 70] [1, 30, 5]\n",
      "[97, 150, 75]\n",
      "[97, 150, 75] [1, 30, 5]\n",
      "[98, 180, 80]\n",
      "[98, 180, 80] [1, 30, 5]\n",
      "[99, 210, 85]\n",
      "[99, 210, 85] [1, 30, 5]\n",
      "[100, 240, 90]\n",
      "1\n",
      "2\n",
      "[2]\n",
      "[90] [5]\n",
      "[95]\n",
      "[95] [5]\n",
      "[100]\n",
      "1\n"
     ]
    },
    {
     "data": {
      "text/plain": [
       "[2, 1]"
      ]
     },
     "execution_count": 86,
     "metadata": {},
     "output_type": "execute_result"
    }
   ],
   "source": [
    "solution(progresses, speeds)"
   ]
  },
  {
   "cell_type": "code",
   "execution_count": 87,
   "id": "4e7c9bc4",
   "metadata": {
    "ExecuteTime": {
     "end_time": "2023-10-09T09:26:42.600012Z",
     "start_time": "2023-10-09T09:26:42.590485Z"
    }
   },
   "outputs": [],
   "source": [
    "priorities = [2,1,3,2]\n",
    "location = 2"
   ]
  },
  {
   "cell_type": "code",
   "execution_count": 88,
   "id": "95629e9b",
   "metadata": {
    "ExecuteTime": {
     "end_time": "2023-10-09T09:26:42.839198Z",
     "start_time": "2023-10-09T09:26:42.824162Z"
    }
   },
   "outputs": [],
   "source": [
    "def solution(priorities, location):\n",
    "    order = priorities[location]\n",
    "    loc = [i for i in range(len(priorities))]\n",
    "    answer = 0\n",
    "    while priorities:\n",
    "        highest = max(priorities)\n",
    "        process = priorities.pop(0)\n",
    "        n_loc = loc.pop(0)\n",
    "        if process == highest:\n",
    "            answer += 1\n",
    "            if order == process and loc == n_loc:\n",
    "                return answer\n",
    "        else:\n",
    "            priorities.append(process)\n",
    "            loc.append(n_loc)\n",
    "    return answer"
   ]
  },
  {
   "cell_type": "code",
   "execution_count": 89,
   "id": "35001c68",
   "metadata": {
    "ExecuteTime": {
     "end_time": "2023-10-09T09:26:54.506556Z",
     "start_time": "2023-10-09T09:26:54.498328Z"
    }
   },
   "outputs": [
    {
     "data": {
      "text/plain": [
       "4"
      ]
     },
     "execution_count": 89,
     "metadata": {},
     "output_type": "execute_result"
    }
   ],
   "source": [
    "solution(priorities, location)"
   ]
  },
  {
   "cell_type": "code",
   "execution_count": null,
   "id": "f3027868",
   "metadata": {},
   "outputs": [],
   "source": []
  }
 ],
 "metadata": {
  "kernelspec": {
   "display_name": "Python 3 (ipykernel)",
   "language": "python",
   "name": "python3"
  },
  "language_info": {
   "codemirror_mode": {
    "name": "ipython",
    "version": 3
   },
   "file_extension": ".py",
   "mimetype": "text/x-python",
   "name": "python",
   "nbconvert_exporter": "python",
   "pygments_lexer": "ipython3",
   "version": "3.11.4"
  },
  "toc": {
   "base_numbering": 1,
   "nav_menu": {},
   "number_sections": true,
   "sideBar": true,
   "skip_h1_title": false,
   "title_cell": "Table of Contents",
   "title_sidebar": "Contents",
   "toc_cell": false,
   "toc_position": {},
   "toc_section_display": true,
   "toc_window_display": false
  }
 },
 "nbformat": 4,
 "nbformat_minor": 5
}
